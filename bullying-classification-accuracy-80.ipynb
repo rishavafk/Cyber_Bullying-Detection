{
 "cells": [
  {
   "cell_type": "code",
   "execution_count": 9,
   "metadata": {
    "_cell_guid": "b1076dfc-b9ad-4769-8c92-a6c4dae69d19",
    "_uuid": "8f2839f25d086af736a60e9eeb907d3b93b6e0e5",
    "execution": {
     "iopub.execute_input": "2025-04-16T18:55:32.793160Z",
     "iopub.status.busy": "2025-04-16T18:55:32.792663Z",
     "iopub.status.idle": "2025-04-16T18:55:34.748670Z",
     "shell.execute_reply": "2025-04-16T18:55:34.747439Z",
     "shell.execute_reply.started": "2025-04-16T18:55:32.793120Z"
    },
    "trusted": true
   },
   "outputs": [
    {
     "data": {
      "text/html": [
       "<div>\n",
       "<style scoped>\n",
       "    .dataframe tbody tr th:only-of-type {\n",
       "        vertical-align: middle;\n",
       "    }\n",
       "\n",
       "    .dataframe tbody tr th {\n",
       "        vertical-align: top;\n",
       "    }\n",
       "\n",
       "    .dataframe thead th {\n",
       "        text-align: right;\n",
       "    }\n",
       "</style>\n",
       "<table border=\"1\" class=\"dataframe\">\n",
       "  <thead>\n",
       "    <tr style=\"text-align: right;\">\n",
       "      <th></th>\n",
       "      <th>tweet_text</th>\n",
       "      <th>cyberbullying_type</th>\n",
       "    </tr>\n",
       "  </thead>\n",
       "  <tbody>\n",
       "    <tr>\n",
       "      <th>0</th>\n",
       "      <td>In other words #katandandre, your food was cra...</td>\n",
       "      <td>not_cyberbullying</td>\n",
       "    </tr>\n",
       "    <tr>\n",
       "      <th>1</th>\n",
       "      <td>Why is #aussietv so white? #MKR #theblock #ImA...</td>\n",
       "      <td>not_cyberbullying</td>\n",
       "    </tr>\n",
       "    <tr>\n",
       "      <th>2</th>\n",
       "      <td>@XochitlSuckkks a classy whore? Or more red ve...</td>\n",
       "      <td>not_cyberbullying</td>\n",
       "    </tr>\n",
       "    <tr>\n",
       "      <th>3</th>\n",
       "      <td>@Jason_Gio meh. :P  thanks for the heads up, b...</td>\n",
       "      <td>not_cyberbullying</td>\n",
       "    </tr>\n",
       "    <tr>\n",
       "      <th>4</th>\n",
       "      <td>@RudhoeEnglish This is an ISIS account pretend...</td>\n",
       "      <td>not_cyberbullying</td>\n",
       "    </tr>\n",
       "  </tbody>\n",
       "</table>\n",
       "</div>"
      ],
      "text/plain": [
       "                                          tweet_text cyberbullying_type\n",
       "0  In other words #katandandre, your food was cra...  not_cyberbullying\n",
       "1  Why is #aussietv so white? #MKR #theblock #ImA...  not_cyberbullying\n",
       "2  @XochitlSuckkks a classy whore? Or more red ve...  not_cyberbullying\n",
       "3  @Jason_Gio meh. :P  thanks for the heads up, b...  not_cyberbullying\n",
       "4  @RudhoeEnglish This is an ISIS account pretend...  not_cyberbullying"
      ]
     },
     "execution_count": 9,
     "metadata": {},
     "output_type": "execute_result"
    }
   ],
   "source": [
    "import pandas as pd\n",
    "\n",
    "df = pd.read_csv('cyberbullying_tweets.csv')\n",
    "df.head()"
   ]
  },
  {
   "cell_type": "code",
   "execution_count": 10,
   "metadata": {
    "execution": {
     "iopub.execute_input": "2025-04-16T18:55:34.750283Z",
     "iopub.status.busy": "2025-04-16T18:55:34.749913Z",
     "iopub.status.idle": "2025-04-16T18:55:34.767288Z",
     "shell.execute_reply": "2025-04-16T18:55:34.766233Z",
     "shell.execute_reply.started": "2025-04-16T18:55:34.750253Z"
    },
    "trusted": true
   },
   "outputs": [
    {
     "data": {
      "text/plain": [
       "tweet_text            0\n",
       "cyberbullying_type    0\n",
       "dtype: int64"
      ]
     },
     "execution_count": 10,
     "metadata": {},
     "output_type": "execute_result"
    }
   ],
   "source": [
    "df.isnull().sum()"
   ]
  },
  {
   "cell_type": "code",
   "execution_count": 11,
   "metadata": {
    "execution": {
     "iopub.execute_input": "2025-04-16T18:55:34.768882Z",
     "iopub.status.busy": "2025-04-16T18:55:34.768435Z",
     "iopub.status.idle": "2025-04-16T18:55:34.833558Z",
     "shell.execute_reply": "2025-04-16T18:55:34.832321Z",
     "shell.execute_reply.started": "2025-04-16T18:55:34.768844Z"
    },
    "trusted": true
   },
   "outputs": [
    {
     "data": {
      "text/plain": [
       "36"
      ]
     },
     "execution_count": 11,
     "metadata": {},
     "output_type": "execute_result"
    }
   ],
   "source": [
    "df.duplicated().sum()"
   ]
  },
  {
   "cell_type": "code",
   "execution_count": 12,
   "metadata": {
    "execution": {
     "iopub.execute_input": "2025-04-16T18:55:34.837017Z",
     "iopub.status.busy": "2025-04-16T18:55:34.836712Z",
     "iopub.status.idle": "2025-04-16T18:55:34.878805Z",
     "shell.execute_reply": "2025-04-16T18:55:34.877768Z",
     "shell.execute_reply.started": "2025-04-16T18:55:34.836992Z"
    },
    "trusted": true
   },
   "outputs": [],
   "source": [
    "df = df.drop_duplicates()"
   ]
  },
  {
   "cell_type": "code",
   "execution_count": 13,
   "metadata": {
    "execution": {
     "iopub.execute_input": "2025-04-16T18:55:34.880801Z",
     "iopub.status.busy": "2025-04-16T18:55:34.880526Z",
     "iopub.status.idle": "2025-04-16T18:55:34.894331Z",
     "shell.execute_reply": "2025-04-16T18:55:34.893048Z",
     "shell.execute_reply.started": "2025-04-16T18:55:34.880778Z"
    },
    "trusted": true
   },
   "outputs": [
    {
     "data": {
      "text/plain": [
       "cyberbullying_type\n",
       "religion               7997\n",
       "age                    7992\n",
       "ethnicity              7959\n",
       "gender                 7948\n",
       "not_cyberbullying      7937\n",
       "other_cyberbullying    7823\n",
       "Name: count, dtype: int64"
      ]
     },
     "execution_count": 13,
     "metadata": {},
     "output_type": "execute_result"
    }
   ],
   "source": [
    "df['cyberbullying_type'].value_counts()"
   ]
  },
  {
   "cell_type": "code",
   "execution_count": 14,
   "metadata": {
    "execution": {
     "iopub.execute_input": "2025-04-16T18:55:34.896082Z",
     "iopub.status.busy": "2025-04-16T18:55:34.895562Z",
     "iopub.status.idle": "2025-04-16T18:55:36.191878Z",
     "shell.execute_reply": "2025-04-16T18:55:36.190773Z",
     "shell.execute_reply.started": "2025-04-16T18:55:34.896044Z"
    },
    "trusted": true
   },
   "outputs": [],
   "source": [
    "from sklearn.preprocessing import LabelEncoder\n",
    "\n",
    "encoder = LabelEncoder()\n",
    "df['label'] = encoder.fit_transform(df['cyberbullying_type'])"
   ]
  },
  {
   "cell_type": "code",
   "execution_count": 15,
   "metadata": {
    "execution": {
     "iopub.execute_input": "2025-04-16T18:55:36.193469Z",
     "iopub.status.busy": "2025-04-16T18:55:36.192863Z",
     "iopub.status.idle": "2025-04-16T18:55:36.209576Z",
     "shell.execute_reply": "2025-04-16T18:55:36.208409Z",
     "shell.execute_reply.started": "2025-04-16T18:55:36.193425Z"
    },
    "trusted": true
   },
   "outputs": [],
   "source": [
    "df = df.drop(columns='cyberbullying_type')"
   ]
  },
  {
   "cell_type": "code",
   "execution_count": 16,
   "metadata": {
    "execution": {
     "iopub.execute_input": "2025-04-16T18:55:36.210820Z",
     "iopub.status.busy": "2025-04-16T18:55:36.210413Z",
     "iopub.status.idle": "2025-04-16T18:55:42.556605Z",
     "shell.execute_reply": "2025-04-16T18:55:42.555136Z",
     "shell.execute_reply.started": "2025-04-16T18:55:36.210785Z"
    },
    "trusted": true
   },
   "outputs": [
    {
     "name": "stdout",
     "output_type": "stream",
     "text": [
      "^C\n",
      "Note: you may need to restart the kernel to use updated packages.\n"
     ]
    }
   ],
   "source": [
    "pip install nltk"
   ]
  },
  {
   "cell_type": "code",
   "execution_count": 17,
   "metadata": {
    "execution": {
     "iopub.execute_input": "2025-04-16T18:55:42.557983Z",
     "iopub.status.busy": "2025-04-16T18:55:42.557665Z",
     "iopub.status.idle": "2025-04-16T18:57:19.598579Z",
     "shell.execute_reply": "2025-04-16T18:57:19.597547Z",
     "shell.execute_reply.started": "2025-04-16T18:55:42.557938Z"
    },
    "trusted": true
   },
   "outputs": [
    {
     "name": "stderr",
     "output_type": "stream",
     "text": [
      "[nltk_data] Downloading package stopwords to\n",
      "[nltk_data]     C:\\Users\\youca\\AppData\\Roaming\\nltk_data...\n",
      "[nltk_data]   Package stopwords is already up-to-date!\n",
      "[nltk_data] Downloading package punkt to\n",
      "[nltk_data]     C:\\Users\\youca\\AppData\\Roaming\\nltk_data...\n",
      "[nltk_data]   Package punkt is already up-to-date!\n",
      "[nltk_data] Downloading package wordnet to\n",
      "[nltk_data]     C:\\Users\\youca\\AppData\\Roaming\\nltk_data...\n",
      "[nltk_data]   Package wordnet is already up-to-date!\n"
     ]
    },
    {
     "data": {
      "text/plain": [
       "True"
      ]
     },
     "execution_count": 17,
     "metadata": {},
     "output_type": "execute_result"
    }
   ],
   "source": [
    "import nltk\n",
    "nltk.download('stopwords')\n",
    "nltk.download('punkt')\n",
    "nltk.download('wordnet')"
   ]
  },
  {
   "cell_type": "code",
   "execution_count": null,
   "metadata": {},
   "outputs": [],
   "source": []
  },
  {
   "cell_type": "code",
   "execution_count": 18,
   "metadata": {
    "execution": {
     "iopub.execute_input": "2025-04-16T18:57:19.600460Z",
     "iopub.status.busy": "2025-04-16T18:57:19.600022Z",
     "iopub.status.idle": "2025-04-16T18:57:19.655791Z",
     "shell.execute_reply": "2025-04-16T18:57:19.654828Z",
     "shell.execute_reply.started": "2025-04-16T18:57:19.600413Z"
    },
    "trusted": true
   },
   "outputs": [],
   "source": [
    "df['tweet_text'] = df['tweet_text'].str.upper()"
   ]
  },
  {
   "cell_type": "code",
   "execution_count": 19,
   "metadata": {
    "execution": {
     "iopub.execute_input": "2025-04-16T18:57:19.656893Z",
     "iopub.status.busy": "2025-04-16T18:57:19.656610Z",
     "iopub.status.idle": "2025-04-16T18:57:20.053353Z",
     "shell.execute_reply": "2025-04-16T18:57:20.052182Z",
     "shell.execute_reply.started": "2025-04-16T18:57:19.656870Z"
    },
    "trusted": true
   },
   "outputs": [],
   "source": [
    "import re\n",
    "def clean_text(text):\n",
    "    text = text.lower()  # Lowercase\n",
    "    text = re.sub(r'http\\S+|www\\S+', '', text)  # Hapus link\n",
    "    text = re.sub(r'#\\S+', '', text)  # Hapus hashtag\n",
    "    text = re.sub(r'[^a-z\\s]', '', text)  # Hapus tanda baca\n",
    "    return text\n",
    "\n",
    "df['tweet_text'] = df['tweet_text'].apply(clean_text)"
   ]
  },
  {
   "cell_type": "code",
   "execution_count": 20,
   "metadata": {
    "execution": {
     "iopub.execute_input": "2025-04-16T18:57:20.054884Z",
     "iopub.status.busy": "2025-04-16T18:57:20.054563Z",
     "iopub.status.idle": "2025-04-16T18:57:20.358903Z",
     "shell.execute_reply": "2025-04-16T18:57:20.357560Z",
     "shell.execute_reply.started": "2025-04-16T18:57:20.054856Z"
    },
    "trusted": true
   },
   "outputs": [],
   "source": [
    "from nltk.corpus import stopwords\n",
    "\n",
    "stop_words = set(stopwords.words('english'))\n",
    "df['tweet_text'] = df['tweet_text'].apply(lambda x: ' '.join([word for word in x.split() if word.lower() not in stop_words]))"
   ]
  },
  {
   "cell_type": "code",
   "execution_count": null,
   "metadata": {
    "execution": {
     "iopub.execute_input": "2025-04-16T18:57:20.363753Z",
     "iopub.status.busy": "2025-04-16T18:57:20.363379Z",
     "iopub.status.idle": "2025-04-16T18:57:20.367991Z",
     "shell.execute_reply": "2025-04-16T18:57:20.366825Z",
     "shell.execute_reply.started": "2025-04-16T18:57:20.363719Z"
    },
    "trusted": true
   },
   "outputs": [],
   "source": [
    "# from nltk.stem import WordNetLemmatizer\n",
    "# lemmatizer = WordNetLemmatizer()\n",
    "\n",
    "# lemmatizer = WordNetLemmatizer()\n",
    "# df['tweet_text'] = df['tweet_text'].apply(lambda x: ' '.join([lemmatizer.lemmatize(word) for word in x.split()]))"
   ]
  },
  {
   "cell_type": "code",
   "execution_count": 21,
   "metadata": {
    "execution": {
     "iopub.execute_input": "2025-04-16T18:57:20.370416Z",
     "iopub.status.busy": "2025-04-16T18:57:20.369990Z",
     "iopub.status.idle": "2025-04-16T18:57:21.638633Z",
     "shell.execute_reply": "2025-04-16T18:57:21.637376Z",
     "shell.execute_reply.started": "2025-04-16T18:57:20.370365Z"
    },
    "trusted": true
   },
   "outputs": [],
   "source": [
    "from sklearn.feature_extraction.text import TfidfVectorizer\n",
    "vectorizer = TfidfVectorizer(max_features=500)\n",
    "X = vectorizer.fit_transform(df['tweet_text']).toarray()"
   ]
  },
  {
   "cell_type": "code",
   "execution_count": 22,
   "metadata": {
    "execution": {
     "iopub.execute_input": "2025-04-16T18:57:21.639952Z",
     "iopub.status.busy": "2025-04-16T18:57:21.639643Z",
     "iopub.status.idle": "2025-04-16T18:57:21.644907Z",
     "shell.execute_reply": "2025-04-16T18:57:21.643663Z",
     "shell.execute_reply.started": "2025-04-16T18:57:21.639923Z"
    },
    "trusted": true
   },
   "outputs": [],
   "source": [
    "y = df['label']"
   ]
  },
  {
   "cell_type": "code",
   "execution_count": 23,
   "metadata": {
    "execution": {
     "iopub.execute_input": "2025-04-16T18:57:21.646456Z",
     "iopub.status.busy": "2025-04-16T18:57:21.646071Z",
     "iopub.status.idle": "2025-04-16T18:57:21.785922Z",
     "shell.execute_reply": "2025-04-16T18:57:21.784907Z",
     "shell.execute_reply.started": "2025-04-16T18:57:21.646411Z"
    },
    "trusted": true
   },
   "outputs": [],
   "source": [
    "from sklearn.model_selection import train_test_split\n",
    "X_train, X_test, y_train, y_test = train_test_split(X, y, test_size = 0.2, random_state = 42, stratify=y)"
   ]
  },
  {
   "cell_type": "code",
   "execution_count": 24,
   "metadata": {
    "execution": {
     "iopub.execute_input": "2025-04-16T18:57:21.787464Z",
     "iopub.status.busy": "2025-04-16T18:57:21.787044Z",
     "iopub.status.idle": "2025-04-16T18:57:21.794985Z",
     "shell.execute_reply": "2025-04-16T18:57:21.793718Z",
     "shell.execute_reply.started": "2025-04-16T18:57:21.787420Z"
    },
    "trusted": true
   },
   "outputs": [
    {
     "data": {
      "text/plain": [
       "array([[0., 0., 0., ..., 0., 0., 0.],\n",
       "       [0., 0., 0., ..., 0., 0., 0.],\n",
       "       [0., 0., 0., ..., 0., 0., 0.],\n",
       "       ...,\n",
       "       [0., 0., 0., ..., 0., 0., 0.],\n",
       "       [0., 0., 0., ..., 0., 0., 0.],\n",
       "       [0., 0., 0., ..., 0., 0., 0.]])"
      ]
     },
     "execution_count": 24,
     "metadata": {},
     "output_type": "execute_result"
    }
   ],
   "source": [
    "X_train"
   ]
  },
  {
   "cell_type": "code",
   "execution_count": 25,
   "metadata": {
    "execution": {
     "iopub.execute_input": "2025-04-16T18:57:21.796627Z",
     "iopub.status.busy": "2025-04-16T18:57:21.796200Z",
     "iopub.status.idle": "2025-04-16T18:58:00.713940Z",
     "shell.execute_reply": "2025-04-16T18:58:00.712640Z",
     "shell.execute_reply.started": "2025-04-16T18:57:21.796585Z"
    },
    "trusted": true
   },
   "outputs": [
    {
     "name": "stdout",
     "output_type": "stream",
     "text": [
      "Requirement already satisfied: nltk in c:\\users\\youca\\anaconda3\\lib\\site-packages (3.8.1)\n",
      "Requirement already satisfied: click in c:\\users\\youca\\anaconda3\\lib\\site-packages (from nltk) (8.1.7)\n",
      "Requirement already satisfied: joblib in c:\\users\\youca\\anaconda3\\lib\\site-packages (from nltk) (1.2.0)\n",
      "Requirement already satisfied: regex>=2021.8.3 in c:\\users\\youca\\anaconda3\\lib\\site-packages (from nltk) (2023.10.3)\n",
      "Requirement already satisfied: tqdm in c:\\users\\youca\\anaconda3\\lib\\site-packages (from nltk) (4.65.0)\n",
      "Requirement already satisfied: colorama in c:\\users\\youca\\anaconda3\\lib\\site-packages (from click->nltk) (0.4.6)\n"
     ]
    },
    {
     "data": {
      "text/html": [
       "<style>#sk-container-id-1 {color: black;background-color: white;}#sk-container-id-1 pre{padding: 0;}#sk-container-id-1 div.sk-toggleable {background-color: white;}#sk-container-id-1 label.sk-toggleable__label {cursor: pointer;display: block;width: 100%;margin-bottom: 0;padding: 0.3em;box-sizing: border-box;text-align: center;}#sk-container-id-1 label.sk-toggleable__label-arrow:before {content: \"▸\";float: left;margin-right: 0.25em;color: #696969;}#sk-container-id-1 label.sk-toggleable__label-arrow:hover:before {color: black;}#sk-container-id-1 div.sk-estimator:hover label.sk-toggleable__label-arrow:before {color: black;}#sk-container-id-1 div.sk-toggleable__content {max-height: 0;max-width: 0;overflow: hidden;text-align: left;background-color: #f0f8ff;}#sk-container-id-1 div.sk-toggleable__content pre {margin: 0.2em;color: black;border-radius: 0.25em;background-color: #f0f8ff;}#sk-container-id-1 input.sk-toggleable__control:checked~div.sk-toggleable__content {max-height: 200px;max-width: 100%;overflow: auto;}#sk-container-id-1 input.sk-toggleable__control:checked~label.sk-toggleable__label-arrow:before {content: \"▾\";}#sk-container-id-1 div.sk-estimator input.sk-toggleable__control:checked~label.sk-toggleable__label {background-color: #d4ebff;}#sk-container-id-1 div.sk-label input.sk-toggleable__control:checked~label.sk-toggleable__label {background-color: #d4ebff;}#sk-container-id-1 input.sk-hidden--visually {border: 0;clip: rect(1px 1px 1px 1px);clip: rect(1px, 1px, 1px, 1px);height: 1px;margin: -1px;overflow: hidden;padding: 0;position: absolute;width: 1px;}#sk-container-id-1 div.sk-estimator {font-family: monospace;background-color: #f0f8ff;border: 1px dotted black;border-radius: 0.25em;box-sizing: border-box;margin-bottom: 0.5em;}#sk-container-id-1 div.sk-estimator:hover {background-color: #d4ebff;}#sk-container-id-1 div.sk-parallel-item::after {content: \"\";width: 100%;border-bottom: 1px solid gray;flex-grow: 1;}#sk-container-id-1 div.sk-label:hover label.sk-toggleable__label {background-color: #d4ebff;}#sk-container-id-1 div.sk-serial::before {content: \"\";position: absolute;border-left: 1px solid gray;box-sizing: border-box;top: 0;bottom: 0;left: 50%;z-index: 0;}#sk-container-id-1 div.sk-serial {display: flex;flex-direction: column;align-items: center;background-color: white;padding-right: 0.2em;padding-left: 0.2em;position: relative;}#sk-container-id-1 div.sk-item {position: relative;z-index: 1;}#sk-container-id-1 div.sk-parallel {display: flex;align-items: stretch;justify-content: center;background-color: white;position: relative;}#sk-container-id-1 div.sk-item::before, #sk-container-id-1 div.sk-parallel-item::before {content: \"\";position: absolute;border-left: 1px solid gray;box-sizing: border-box;top: 0;bottom: 0;left: 50%;z-index: -1;}#sk-container-id-1 div.sk-parallel-item {display: flex;flex-direction: column;z-index: 1;position: relative;background-color: white;}#sk-container-id-1 div.sk-parallel-item:first-child::after {align-self: flex-end;width: 50%;}#sk-container-id-1 div.sk-parallel-item:last-child::after {align-self: flex-start;width: 50%;}#sk-container-id-1 div.sk-parallel-item:only-child::after {width: 0;}#sk-container-id-1 div.sk-dashed-wrapped {border: 1px dashed gray;margin: 0 0.4em 0.5em 0.4em;box-sizing: border-box;padding-bottom: 0.4em;background-color: white;}#sk-container-id-1 div.sk-label label {font-family: monospace;font-weight: bold;display: inline-block;line-height: 1.2em;}#sk-container-id-1 div.sk-label-container {text-align: center;}#sk-container-id-1 div.sk-container {/* jupyter's `normalize.less` sets `[hidden] { display: none; }` but bootstrap.min.css set `[hidden] { display: none !important; }` so we also need the `!important` here to be able to override the default hidden behavior on the sphinx rendered scikit-learn.org. See: https://github.com/scikit-learn/scikit-learn/issues/21755 */display: inline-block !important;position: relative;}#sk-container-id-1 div.sk-text-repr-fallback {display: none;}</style><div id=\"sk-container-id-1\" class=\"sk-top-container\"><div class=\"sk-text-repr-fallback\"><pre>RandomForestClassifier()</pre><b>In a Jupyter environment, please rerun this cell to show the HTML representation or trust the notebook. <br />On GitHub, the HTML representation is unable to render, please try loading this page with nbviewer.org.</b></div><div class=\"sk-container\" hidden><div class=\"sk-item\"><div class=\"sk-estimator sk-toggleable\"><input class=\"sk-toggleable__control sk-hidden--visually\" id=\"sk-estimator-id-1\" type=\"checkbox\" checked><label for=\"sk-estimator-id-1\" class=\"sk-toggleable__label sk-toggleable__label-arrow\">RandomForestClassifier</label><div class=\"sk-toggleable__content\"><pre>RandomForestClassifier()</pre></div></div></div></div></div>"
      ],
      "text/plain": [
       "RandomForestClassifier()"
      ]
     },
     "execution_count": 25,
     "metadata": {},
     "output_type": "execute_result"
    }
   ],
   "source": [
    "from sklearn.ensemble import RandomForestClassifier\n",
    "\n",
    "model = RandomForestClassifier(n_estimators=100)\n",
    "model.fit(X_train, y_train)"
   ]
  },
  {
   "cell_type": "code",
   "execution_count": null,
   "metadata": {
    "execution": {
     "iopub.execute_input": "2025-04-16T18:58:00.715198Z",
     "iopub.status.busy": "2025-04-16T18:58:00.714914Z",
     "iopub.status.idle": "2025-04-16T18:58:01.399667Z",
     "shell.execute_reply": "2025-04-16T18:58:01.398414Z",
     "shell.execute_reply.started": "2025-04-16T18:58:00.715174Z"
    },
    "trusted": true
   },
   "outputs": [],
   "source": [
    "y_pred = model.predict(X_test)"
   ]
  },
  {
   "cell_type": "code",
   "execution_count": null,
   "metadata": {
    "execution": {
     "iopub.execute_input": "2025-04-16T18:58:01.401094Z",
     "iopub.status.busy": "2025-04-16T18:58:01.400816Z",
     "iopub.status.idle": "2025-04-16T18:58:01.552128Z",
     "shell.execute_reply": "2025-04-16T18:58:01.551045Z",
     "shell.execute_reply.started": "2025-04-16T18:58:01.401071Z"
    },
    "trusted": true
   },
   "outputs": [
    {
     "name": "stdout",
     "output_type": "stream",
     "text": [
      "              precision    recall  f1-score   support\n",
      "\n",
      "           0       0.98      0.97      0.97      1598\n",
      "           1       0.98      0.97      0.98      1592\n",
      "           2       0.87      0.80      0.83      1590\n",
      "           3       0.49      0.44      0.46      1587\n",
      "           4       0.49      0.59      0.54      1565\n",
      "           5       0.96      0.94      0.95      1600\n",
      "\n",
      "    accuracy                           0.79      9532\n",
      "   macro avg       0.79      0.79      0.79      9532\n",
      "weighted avg       0.79      0.79      0.79      9532\n",
      "\n"
     ]
    }
   ],
   "source": [
    "from sklearn.metrics import classification_report\n",
    "\n",
    "report = classification_report(y_test, y_pred)\n",
    "print(report)"
   ]
  },
  {
   "cell_type": "code",
   "execution_count": null,
   "metadata": {
    "execution": {
     "iopub.execute_input": "2025-04-16T18:58:01.553566Z",
     "iopub.status.busy": "2025-04-16T18:58:01.553234Z",
     "iopub.status.idle": "2025-04-16T18:58:08.570701Z",
     "shell.execute_reply": "2025-04-16T18:58:08.569543Z",
     "shell.execute_reply.started": "2025-04-16T18:58:01.553539Z"
    },
    "trusted": true
   },
   "outputs": [
    {
     "name": "stdout",
     "output_type": "stream",
     "text": [
      "              precision    recall  f1-score   support\n",
      "\n",
      "           0       0.93      0.60      0.73      1598\n",
      "           1       0.95      0.78      0.86      1592\n",
      "           2       0.77      0.61      0.68      1590\n",
      "           3       0.27      0.67      0.38      1587\n",
      "           4       0.36      0.27      0.31      1565\n",
      "           5       0.94      0.49      0.64      1600\n",
      "\n",
      "    accuracy                           0.57      9532\n",
      "   macro avg       0.70      0.57      0.60      9532\n",
      "weighted avg       0.70      0.57      0.60      9532\n",
      "\n"
     ]
    }
   ],
   "source": [
    "from sklearn.neighbors import KNeighborsClassifier\n",
    "from sklearn.linear_model import LogisticRegression\n",
    "\n",
    "# Melatih model K-Nearest Neighbors (KNN)\n",
    "knn_model = KNeighborsClassifier(n_neighbors=4)\n",
    "knn_model.fit(X_train, y_train)\n",
    "knn_pred = knn_model.predict(X_test)\n",
    "report2 = classification_report(y_test, knn_pred)\n",
    "print(report2)"
   ]
  },
  {
   "cell_type": "code",
   "execution_count": null,
   "metadata": {
    "execution": {
     "iopub.execute_input": "2025-04-16T18:58:08.572125Z",
     "iopub.status.busy": "2025-04-16T18:58:08.571756Z",
     "iopub.status.idle": "2025-04-16T18:58:17.953234Z",
     "shell.execute_reply": "2025-04-16T18:58:17.952104Z",
     "shell.execute_reply.started": "2025-04-16T18:58:08.572087Z"
    },
    "trusted": true
   },
   "outputs": [
    {
     "name": "stdout",
     "output_type": "stream",
     "text": [
      "              precision    recall  f1-score   support\n",
      "\n",
      "           0       0.96      0.97      0.97      1598\n",
      "           1       0.97      0.97      0.97      1592\n",
      "           2       0.88      0.79      0.83      1590\n",
      "           3       0.53      0.56      0.54      1587\n",
      "           4       0.55      0.60      0.58      1565\n",
      "           5       0.96      0.93      0.94      1600\n",
      "\n",
      "    accuracy                           0.80      9532\n",
      "   macro avg       0.81      0.80      0.81      9532\n",
      "weighted avg       0.81      0.80      0.81      9532\n",
      "\n"
     ]
    }
   ],
   "source": [
    "# Melatih model Logistic Regression\n",
    "lgr_model = LogisticRegression(max_iter=1000)\n",
    "lgr_model.fit(X_train, y_train)\n",
    "lgr_pred = lgr_model.predict(X_test)\n",
    "report3 = classification_report(y_test, lgr_pred)\n",
    "print(report3)"
   ]
  },
  {
   "cell_type": "code",
   "execution_count": 26,
   "metadata": {},
   "outputs": [
    {
     "name": "stdout",
     "output_type": "stream",
     "text": [
      "Model has been pickled and saved successfully!\n"
     ]
    }
   ],
   "source": [
    "import pickle\n",
    "with open('bullying_model.pkl', 'wb') as file:\n",
    "    pickle.dump(model, file)\n",
    "\n",
    "print(\"Model has been pickled and saved successfully!\")"
   ]
  },
  {
   "cell_type": "code",
   "execution_count": 27,
   "metadata": {},
   "outputs": [],
   "source": [
    "with open('tfidf_vectorizer.pkl', 'wb') as f:\n",
    "    pickle.dump(vectorizer, f)"
   ]
  }
 ],
 "metadata": {
  "kaggle": {
   "accelerator": "none",
   "dataSources": [
    {
     "datasetId": 1869236,
     "sourceId": 3053020,
     "sourceType": "datasetVersion"
    }
   ],
   "dockerImageVersionId": 30886,
   "isGpuEnabled": false,
   "isInternetEnabled": false,
   "language": "python",
   "sourceType": "notebook"
  },
  "kernelspec": {
   "display_name": "base",
   "language": "python",
   "name": "python3"
  },
  "language_info": {
   "codemirror_mode": {
    "name": "ipython",
    "version": 3
   },
   "file_extension": ".py",
   "mimetype": "text/x-python",
   "name": "python",
   "nbconvert_exporter": "python",
   "pygments_lexer": "ipython3",
   "version": "3.11.7"
  }
 },
 "nbformat": 4,
 "nbformat_minor": 4
}
